{
 "cells": [
  {
   "cell_type": "markdown",
   "id": "2ec9ec0a",
   "metadata": {},
   "source": [
    "# Data Science Tools and Ecosystem"
   ]
  },
  {
   "cell_type": "markdown",
   "id": "84626a33",
   "metadata": {},
   "source": [
    "In this notebool, Data Science Tools and Ecosystem are summarized."
   ]
  },
  {
   "cell_type": "markdown",
   "id": "884c4548",
   "metadata": {},
   "source": [
    "Some of the popular languages that Data Scientists use are:\n",
    "   <p> 1. Pyhton\n",
    "   <p> 2. R\n",
    "   <p> 3. SQL\n",
    "   <p> 4. JavaScript\n",
    "   <p> 5. Julia\n",
    "   <p> 6. C++"
   ]
  },
  {
   "cell_type": "markdown",
   "id": "f72f2031",
   "metadata": {},
   "source": [
    "Some of the commonly used libraries used by Data Scientists include:\n",
    "   <p> 1. Pandas\n",
    "   <p> 2. Matplotlib\n",
    "   <p> 3. Seaborn\n",
    "   <p> 4. Plotly\n",
    "   <p> 5. Scikit-learn\n",
    "   <p> 6. TensorFlow"
   ]
  },
  {
   "cell_type": "markdown",
   "id": "9fa7519e",
   "metadata": {},
   "source": [
    "| Data Science Tools |\n",
    "|:--------:|\n",
    "|  Jupyter Notebook  |\n",
    "|  JupyterLab  |\n",
    "|  R Studio  |"
   ]
  },
  {
   "cell_type": "markdown",
   "id": "fcd88caa",
   "metadata": {},
   "source": [
    "### Below are a few examples of evaluating arithemetic expression in Python"
   ]
  },
  {
   "cell_type": "code",
   "execution_count": 2,
   "id": "97e4869d",
   "metadata": {},
   "outputs": [
    {
     "data": {
      "text/plain": [
       "17"
      ]
     },
     "execution_count": 2,
     "metadata": {},
     "output_type": "execute_result"
    }
   ],
   "source": [
    "(3*4)+5 #This a simple arithemethic expression to multiply then add integers"
   ]
  },
  {
   "cell_type": "code",
   "execution_count": 3,
   "id": "24311476",
   "metadata": {},
   "outputs": [
    {
     "name": "stdout",
     "output_type": "stream",
     "text": [
      "3.3333333333333335 Hrs\n"
     ]
    }
   ],
   "source": [
    "#This will convert 3200minutes to hours by diving by 60\n",
    "\n",
    "time_min = 200\n",
    "time_hrs = 200/60\n",
    "\n",
    "print (time_hrs,\"Hrs\")"
   ]
  },
  {
   "cell_type": "markdown",
   "id": "6be2b333",
   "metadata": {},
   "source": [
    "<b>Objectives:</b>\n",
    "    <p>- Languages of Data Science\n",
    "    <p>- Libraries of Data Science\n",
    "    <p>- Data Science Tools\n",
    "    <p>- Arithmethic expression in Python\n",
    "    <p>- Using Markdowns in Jupyther Notebook\n",
    "    "
   ]
  },
  {
   "cell_type": "markdown",
   "id": "87458a84",
   "metadata": {},
   "source": [
    "## Author\n",
    "<p> Ayomide Akindahunsi"
   ]
  }
 ],
 "metadata": {
  "kernelspec": {
   "display_name": "Python 3 (ipykernel)",
   "language": "python",
   "name": "python3"
  },
  "language_info": {
   "codemirror_mode": {
    "name": "ipython",
    "version": 3
   },
   "file_extension": ".py",
   "mimetype": "text/x-python",
   "name": "python",
   "nbconvert_exporter": "python",
   "pygments_lexer": "ipython3",
   "version": "3.11.3"
  }
 },
 "nbformat": 4,
 "nbformat_minor": 5
}
